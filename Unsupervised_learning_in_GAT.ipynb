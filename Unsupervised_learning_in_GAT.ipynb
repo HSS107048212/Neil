{
  "nbformat": 4,
  "nbformat_minor": 0,
  "metadata": {
    "colab": {
      "provenance": [],
      "authorship_tag": "ABX9TyP1mACfTm/MB8OhO2tjhxZE",
      "include_colab_link": true
    },
    "kernelspec": {
      "name": "python3",
      "display_name": "Python 3"
    },
    "language_info": {
      "name": "python"
    }
  },
  "cells": [
    {
      "cell_type": "markdown",
      "metadata": {
        "id": "view-in-github",
        "colab_type": "text"
      },
      "source": [
        "<a href=\"https://colab.research.google.com/github/HSS107048212/Neil/blob/main/Unsupervised_learning_in_GAT.ipynb\" target=\"_parent\"><img src=\"https://colab.research.google.com/assets/colab-badge.svg\" alt=\"Open In Colab\"/></a>"
      ]
    },
    {
      "cell_type": "code",
      "source": [
        "pip install torch-scatter torch-sparse torch-cluster torch-spline-conv torch-geometric"
      ],
      "metadata": {
        "colab": {
          "base_uri": "https://localhost:8080/"
        },
        "id": "m9hSRzWp3R62",
        "outputId": "7b7897ff-9768-42c2-d3b0-e431bc1db866"
      },
      "execution_count": 3,
      "outputs": [
        {
          "output_type": "stream",
          "name": "stdout",
          "text": [
            "Collecting torch-scatter\n",
            "  Downloading torch_scatter-2.1.2.tar.gz (108 kB)\n",
            "\u001b[2K     \u001b[90m━━━━━━━━━━━━━━━━━━━━━━━━━━━━━━━━━━━━━━━━\u001b[0m \u001b[32m108.0/108.0 kB\u001b[0m \u001b[31m3.1 MB/s\u001b[0m eta \u001b[36m0:00:00\u001b[0m\n",
            "\u001b[?25h  Preparing metadata (setup.py) ... \u001b[?25l\u001b[?25hdone\n",
            "Collecting torch-sparse\n",
            "  Downloading torch_sparse-0.6.18.tar.gz (209 kB)\n",
            "\u001b[2K     \u001b[90m━━━━━━━━━━━━━━━━━━━━━━━━━━━━━━━━━━━━━━━━\u001b[0m \u001b[32m210.0/210.0 kB\u001b[0m \u001b[31m9.7 MB/s\u001b[0m eta \u001b[36m0:00:00\u001b[0m\n",
            "\u001b[?25h  Preparing metadata (setup.py) ... \u001b[?25l\u001b[?25hdone\n",
            "Collecting torch-cluster\n",
            "  Downloading torch_cluster-1.6.3.tar.gz (54 kB)\n",
            "\u001b[2K     \u001b[90m━━━━━━━━━━━━━━━━━━━━━━━━━━━━━━━━━━━━━━━━\u001b[0m \u001b[32m54.5/54.5 kB\u001b[0m \u001b[31m6.7 MB/s\u001b[0m eta \u001b[36m0:00:00\u001b[0m\n",
            "\u001b[?25h  Preparing metadata (setup.py) ... \u001b[?25l\u001b[?25hdone\n",
            "Collecting torch-spline-conv\n",
            "  Downloading torch_spline_conv-1.2.2.tar.gz (25 kB)\n",
            "  Preparing metadata (setup.py) ... \u001b[?25l\u001b[?25hdone\n",
            "Collecting torch-geometric\n",
            "  Downloading torch_geometric-2.4.0-py3-none-any.whl (1.0 MB)\n",
            "\u001b[2K     \u001b[90m━━━━━━━━━━━━━━━━━━━━━━━━━━━━━━━━━━━━━━━━\u001b[0m \u001b[32m1.0/1.0 MB\u001b[0m \u001b[31m12.6 MB/s\u001b[0m eta \u001b[36m0:00:00\u001b[0m\n",
            "\u001b[?25hRequirement already satisfied: scipy in /usr/local/lib/python3.10/dist-packages (from torch-sparse) (1.11.4)\n",
            "Requirement already satisfied: tqdm in /usr/local/lib/python3.10/dist-packages (from torch-geometric) (4.66.1)\n",
            "Requirement already satisfied: numpy in /usr/local/lib/python3.10/dist-packages (from torch-geometric) (1.23.5)\n",
            "Requirement already satisfied: jinja2 in /usr/local/lib/python3.10/dist-packages (from torch-geometric) (3.1.3)\n",
            "Requirement already satisfied: requests in /usr/local/lib/python3.10/dist-packages (from torch-geometric) (2.31.0)\n",
            "Requirement already satisfied: pyparsing in /usr/local/lib/python3.10/dist-packages (from torch-geometric) (3.1.1)\n",
            "Requirement already satisfied: scikit-learn in /usr/local/lib/python3.10/dist-packages (from torch-geometric) (1.2.2)\n",
            "Requirement already satisfied: psutil>=5.8.0 in /usr/local/lib/python3.10/dist-packages (from torch-geometric) (5.9.5)\n",
            "Requirement already satisfied: MarkupSafe>=2.0 in /usr/local/lib/python3.10/dist-packages (from jinja2->torch-geometric) (2.1.5)\n",
            "Requirement already satisfied: charset-normalizer<4,>=2 in /usr/local/lib/python3.10/dist-packages (from requests->torch-geometric) (3.3.2)\n",
            "Requirement already satisfied: idna<4,>=2.5 in /usr/local/lib/python3.10/dist-packages (from requests->torch-geometric) (3.6)\n",
            "Requirement already satisfied: urllib3<3,>=1.21.1 in /usr/local/lib/python3.10/dist-packages (from requests->torch-geometric) (2.0.7)\n",
            "Requirement already satisfied: certifi>=2017.4.17 in /usr/local/lib/python3.10/dist-packages (from requests->torch-geometric) (2024.2.2)\n",
            "Requirement already satisfied: joblib>=1.1.1 in /usr/local/lib/python3.10/dist-packages (from scikit-learn->torch-geometric) (1.3.2)\n",
            "Requirement already satisfied: threadpoolctl>=2.0.0 in /usr/local/lib/python3.10/dist-packages (from scikit-learn->torch-geometric) (3.2.0)\n",
            "Building wheels for collected packages: torch-scatter, torch-sparse, torch-cluster, torch-spline-conv\n",
            "  Building wheel for torch-scatter (setup.py) ... \u001b[?25l\u001b[?25hdone\n",
            "  Created wheel for torch-scatter: filename=torch_scatter-2.1.2-cp310-cp310-linux_x86_64.whl size=495091 sha256=9fc6ede4551a95624a0145aa07673fb80530a8fa01e03bd7911e60645eca6942\n",
            "  Stored in directory: /root/.cache/pip/wheels/92/f1/2b/3b46d54b134259f58c8363568569053248040859b1a145b3ce\n",
            "  Building wheel for torch-sparse (setup.py) ... \u001b[?25l\u001b[?25hdone\n",
            "  Created wheel for torch-sparse: filename=torch_sparse-0.6.18-cp310-cp310-linux_x86_64.whl size=1035675 sha256=464e26ddef4b16ad417a4041eaaab994588aa02430524c932325816a3e45060f\n",
            "  Stored in directory: /root/.cache/pip/wheels/c9/dd/0f/a6a16f9f3b0236733d257b4b4ea91b548b984a341ed3b8f38c\n",
            "  Building wheel for torch-cluster (setup.py) ... \u001b[?25l\u001b[?25hdone\n",
            "  Created wheel for torch-cluster: filename=torch_cluster-1.6.3-cp310-cp310-linux_x86_64.whl size=690648 sha256=2f58ce3360331cd19c0ee5d9608267433320d8b5bb660fc149605051ab559702\n",
            "  Stored in directory: /root/.cache/pip/wheels/51/78/c3/536637b3cdcc3313aa5e8851a6c72b97f6a01877e68c7595e3\n",
            "  Building wheel for torch-spline-conv (setup.py) ... \u001b[?25l\u001b[?25hdone\n",
            "  Created wheel for torch-spline-conv: filename=torch_spline_conv-1.2.2-cp310-cp310-linux_x86_64.whl size=198032 sha256=e0e018f413bce25db82dcd2a4282100d36017c4062127f24fd3a3f88ea7ee30b\n",
            "  Stored in directory: /root/.cache/pip/wheels/fc/34/be/187e4b5f5ccefecca2c1a5dfc8da244ec50baa1f33c7b8c9a1\n",
            "Successfully built torch-scatter torch-sparse torch-cluster torch-spline-conv\n",
            "Installing collected packages: torch-spline-conv, torch-scatter, torch-sparse, torch-cluster, torch-geometric\n",
            "Successfully installed torch-cluster-1.6.3 torch-geometric-2.4.0 torch-scatter-2.1.2 torch-sparse-0.6.18 torch-spline-conv-1.2.2\n"
          ]
        }
      ]
    },
    {
      "cell_type": "code",
      "source": [
        "import torch_geometric"
      ],
      "metadata": {
        "id": "WIVIZYMo3QQz"
      },
      "execution_count": 4,
      "outputs": []
    },
    {
      "cell_type": "code",
      "execution_count": 41,
      "metadata": {
        "colab": {
          "base_uri": "https://localhost:8080/"
        },
        "id": "0545jixl27yU",
        "outputId": "0d89bfdf-a694-4de9-f3fd-90eaec4a5c64"
      },
      "outputs": [
        {
          "output_type": "stream",
          "name": "stderr",
          "text": [
            "/usr/local/lib/python3.10/dist-packages/sklearn/cluster/_kmeans.py:870: FutureWarning: The default value of `n_init` will change from 10 to 'auto' in 1.4. Set the value of `n_init` explicitly to suppress the warning\n",
            "  warnings.warn(\n"
          ]
        }
      ],
      "source": [
        "import torch\n",
        "import torch.nn.functional as F\n",
        "from torch_geometric.nn import GATConv\n",
        "from sklearn.cluster import KMeans\n",
        "import numpy as np\n",
        "\n",
        "# 假設的圖形數據\n",
        "num_nodes = 10  # 節點數量\n",
        "num_features = 16  # 每個節點的特徵數量\n",
        "num_classes = 3  # 最終的聚類數量\n",
        "\n",
        "# 生成節點特徵\n",
        "features = torch.rand((num_nodes, num_features))\n",
        "\n",
        "# 隨機生成邊\n",
        "edges = torch.randint(0, num_nodes, (2, 2 * num_nodes))\n",
        "\n",
        "# 定義 GAT 模型\n",
        "class GAT(torch.nn.Module):\n",
        "    def __init__(self, in_channels, hidden_channels, out_channels):\n",
        "        super(GAT, self).__init__()\n",
        "        self.conv1 = GATConv(in_channels, hidden_channels, heads=8, dropout=0.6)\n",
        "        self.conv2 = GATConv(hidden_channels * 8, out_channels, heads=1, concat=False, dropout=0.6)\n",
        "\n",
        "    def forward(self, x, edge_index):\n",
        "        x = F.relu(self.conv1(x, edge_index))\n",
        "        x = self.conv2(x, edge_index)\n",
        "        return x\n",
        "\n",
        "# 初始化模型\n",
        "model = GAT(num_features, 8, num_classes)\n",
        "\n",
        "# 模擬訓練過程（這裡僅為展示，不執行實際的訓練）\n",
        "# 假設 'data' 是一個包含節點特徵和邊索引的對象\n",
        "# data.x = features\n",
        "# data.edge_index = edges\n",
        "\n",
        "# 假設的節點表示（經過模型學習後的特徵）\n",
        "node_embeddings = torch.rand((num_nodes, num_classes))  # 使用隨機數據代替實際模型輸出\n",
        "\n",
        "# 使用 K-means 進行聚類\n",
        "kmeans = KMeans(n_clusters=num_classes)\n",
        "cluster_ids = kmeans.fit_predict(node_embeddings.numpy())\n",
        "\n",
        "\n"
      ]
    },
    {
      "cell_type": "code",
      "source": [
        "import matplotlib.pyplot as plt\n",
        "import networkx as nx\n",
        "import numpy as np\n",
        "import torch\n",
        "\n",
        "# Convert edges to a list of tuples\n",
        "edge_list = edges.t().numpy().tolist()\n",
        "\n",
        "# Create a graph\n",
        "G = nx.Graph()\n",
        "# Explicitly add nodes to ensure every node is included, even if isolated\n",
        "G.add_nodes_from(range(num_nodes))  # Ensure this matches your actual node count\n",
        "G.add_edges_from(edge_list)\n",
        "\n",
        "# Position nodes using the spring layout\n",
        "pos = nx.spring_layout(G, seed=42)  # Optional: seed for reproducibility\n",
        "\n",
        "# Map each cluster ID to a color\n",
        "colors = ['red', 'green', 'blue', 'yellow']\n",
        "node_colors = [colors[cluster_id] for cluster_id in cluster_ids]\n",
        "\n",
        "# Ensure all nodes are accounted for in the color mapping\n",
        "assert len(node_colors) == len(G.nodes()), \"Node color mapping size mismatch.\"\n",
        "\n",
        "# Draw the nodes\n",
        "nx.draw_networkx_nodes(G, pos, node_color=node_colors, node_size=50)\n",
        "\n",
        "# Draw the edges\n",
        "nx.draw_networkx_edges(G, pos, alpha=0.5)\n",
        "\n",
        "plt.show()\n"
      ],
      "metadata": {
        "colab": {
          "base_uri": "https://localhost:8080/",
          "height": 406
        },
        "id": "qeAdoe7iFI16",
        "outputId": "cac248c9-c539-4a09-99e3-ee917b6ec56a"
      },
      "execution_count": 42,
      "outputs": [
        {
          "output_type": "display_data",
          "data": {
            "text/plain": [
              "<Figure size 640x480 with 1 Axes>"
            ],
            "image/png": "[encoded data removed]"
          },
          "metadata": {}
        }
      ]
    },
    {
      "cell_type": "code",
      "source": [
        "pos"
      ],
      "metadata": {
        "colab": {
          "base_uri": "https://localhost:8080/"
        },
        "id": "-mRsXNuVH3WW",
        "outputId": "04821e22-ec38-4606-8114-10586ea09e27"
      },
      "execution_count": 43,
      "outputs": [
        {
          "output_type": "execute_result",
          "data": {
            "text/plain": [
              "{0: array([ 0.60896037, -0.00833997]),\n",
              " 1: array([0.33517799, 0.22415757]),\n",
              " 2: array([-0.17894198, -0.03481128]),\n",
              " 3: array([-1.        , -0.55919194]),\n",
              " 4: array([-0.12932767,  0.22008746]),\n",
              " 5: array([0.08721615, 0.61825254]),\n",
              " 6: array([ 0.08259153, -0.11178467]),\n",
              " 7: array([-0.51526795, -0.33687557]),\n",
              " 8: array([-0.12927788, -0.29684091]),\n",
              " 9: array([0.83886944, 0.28534677])}"
            ]
          },
          "metadata": {},
          "execution_count": 43
        }
      ]
    },
    {
      "cell_type": "code",
      "source": [
        "edge_list"
      ],
      "metadata": {
        "colab": {
          "base_uri": "https://localhost:8080/"
        },
        "id": "CR4l1LzzH-GS",
        "outputId": "97dfb42b-b69b-4955-c35a-cb03f7b37402"
      },
      "execution_count": 44,
      "outputs": [
        {
          "output_type": "execute_result",
          "data": {
            "text/plain": [
              "[[7, 2],\n",
              " [6, 7],\n",
              " [1, 0],\n",
              " [6, 1],\n",
              " [7, 3],\n",
              " [4, 8],\n",
              " [1, 2],\n",
              " [4, 5],\n",
              " [9, 1],\n",
              " [4, 6],\n",
              " [0, 0],\n",
              " [6, 2],\n",
              " [4, 2],\n",
              " [0, 6],\n",
              " [5, 1],\n",
              " [3, 3],\n",
              " [2, 8],\n",
              " [0, 9],\n",
              " [9, 0],\n",
              " [6, 8]]"
            ]
          },
          "metadata": {},
          "execution_count": 44
        }
      ]
    }
  ]
}